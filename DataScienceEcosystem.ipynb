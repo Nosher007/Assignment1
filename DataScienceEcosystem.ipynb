{
 "cells": [
  {
   "cell_type": "markdown",
   "id": "4304666d-1d9d-48a4-90b0-626c772dbd41",
   "metadata": {},
   "source": [
    "<H1>Data Science Tools and Ecosystem"
   ]
  },
  {
   "cell_type": "markdown",
   "id": "676a86bd-7ebb-441e-be4b-52012390a56a",
   "metadata": {},
   "source": [
    "In this notebook, Data Science Tools and Ecosystem are summarized."
   ]
  },
  {
   "cell_type": "markdown",
   "id": "9b803dd3-c8b3-4283-aaef-a345304786c5",
   "metadata": {},
   "source": [
    "<h1><b> Objectives"
   ]
  },
  {
   "cell_type": "markdown",
   "id": "c74196b7-32d1-4654-bb7e-580ace09c608",
   "metadata": {},
   "source": [
    "* List popular languages for Data Science\n",
    "* List of the popular used libraries used by Data scientist\n",
    "* Data Science Tools"
   ]
  },
  {
   "cell_type": "markdown",
   "id": "3561796d-2e22-4236-b5b0-28d513c7a044",
   "metadata": {},
   "source": [
    "Some of the popular languages that Data Scientists use are:\n",
    "1) Python\n",
    "2) R\n",
    "3) Julia"
   ]
  },
  {
   "cell_type": "markdown",
   "id": "9567d034-e50b-47fb-9c22-d6b2fd6d6892",
   "metadata": {},
   "source": [
    "Some of the commonly used libraries used by Data Scientists include:\n",
    "1) Pandas\n",
    "2) Numpy\n",
    "3) Pytorch"
   ]
  },
  {
   "cell_type": "markdown",
   "id": "25794395-df89-4087-85f4-194520272975",
   "metadata": {},
   "source": [
    "<h1> Data Science Tools"
   ]
  },
  {
   "cell_type": "markdown",
   "id": "af31b80f-b6c3-4090-acec-cfcfba8da09f",
   "metadata": {},
   "source": [
    "1) Weka\n",
    "2) Scrapy\n",
    "3) Pandas"
   ]
  },
  {
   "cell_type": "markdown",
   "id": "21e7be47-9287-4408-98b4-b4c1fde08e63",
   "metadata": {},
   "source": [
    "<h2>Below are a few examples of evaluating arithmetic expressions in Python"
   ]
  },
  {
   "cell_type": "code",
   "execution_count": 1,
   "id": "559cf9ac-0dd9-46b2-b7ec-f4e16cfeff9c",
   "metadata": {
    "tags": []
   },
   "outputs": [
    {
     "data": {
      "text/plain": [
       "17"
      ]
     },
     "execution_count": 1,
     "metadata": {},
     "output_type": "execute_result"
    }
   ],
   "source": [
    "(3*4)+5   #This a simple arithmetic expression to mutiply then add integers"
   ]
  },
  {
   "cell_type": "code",
   "execution_count": 2,
   "id": "10be53ac-f9f4-46ce-89ef-f4ed0de3f35d",
   "metadata": {
    "tags": []
   },
   "outputs": [
    {
     "data": {
      "text/plain": [
       "3.3333333333333335"
      ]
     },
     "execution_count": 2,
     "metadata": {},
     "output_type": "execute_result"
    }
   ],
   "source": [
    "200/60 #This will convert 200 minutes to hours by diving by 60"
   ]
  },
  {
   "cell_type": "markdown",
   "id": "369aabd6-777c-4878-8bae-27f73694d82c",
   "metadata": {
    "tags": []
   },
   "source": [
    "<h2> Author"
   ]
  },
  {
   "cell_type": "markdown",
   "id": "a6caaeab-aca6-4661-a14e-623bb11b1159",
   "metadata": {},
   "source": [
    "Nosherwan Babar"
   ]
  },
  {
   "cell_type": "code",
   "execution_count": null,
   "id": "d66e833f-8f00-4942-b258-ad9690728387",
   "metadata": {},
   "outputs": [],
   "source": []
  }
 ],
 "metadata": {
  "kernelspec": {
   "display_name": "Python 3 (ipykernel)",
   "language": "python",
   "name": "python3"
  },
  "language_info": {
   "codemirror_mode": {
    "name": "ipython",
    "version": 3
   },
   "file_extension": ".py",
   "mimetype": "text/x-python",
   "name": "python",
   "nbconvert_exporter": "python",
   "pygments_lexer": "ipython3",
   "version": "3.11.5"
  }
 },
 "nbformat": 4,
 "nbformat_minor": 5
}
